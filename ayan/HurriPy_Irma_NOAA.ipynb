{
 "cells": [
  {
   "cell_type": "markdown",
   "metadata": {},
   "source": [
    "![Hurricane Irma](Images/Hurricane-Irma-satellite.jpg)"
   ]
  },
  {
   "cell_type": "markdown",
   "metadata": {},
   "source": [
    "# HurriPy Irma"
   ]
  },
  {
   "cell_type": "code",
   "execution_count": 1,
   "metadata": {
    "scrolled": true
   },
   "outputs": [
    {
     "name": "stdout",
     "output_type": "stream",
     "text": [
      "All necessary libraries installed\n"
     ]
    }
   ],
   "source": [
    "# Import the necessary libraries\n",
    "import matplotlib.pyplot as plt # Plotting library\n",
    "import pandas as pd\n",
    "import numpy as np\n",
    "import requests\n",
    "import datetime\n",
    "import sys\n",
    "# Import API key\n",
    "from api_keys import noaa_key\n",
    "print(\"All necessary libraries installed\")"
   ]
  },
  {
   "cell_type": "markdown",
   "metadata": {},
   "source": [
    "# Hurricane Irma"
   ]
  },
  {
   "cell_type": "markdown",
   "metadata": {},
   "source": [
    "### Irma was the second-most intense tropical cyclone worldwide in 2017 in terms of barometric pressure, and the strongest worldwide in 2017 in terms of wind speed.\n",
    "**_Hurricane Irma made landfall over the southern Florida mainland around 1 p.m. local time Sunday, Sept. 10 as a Category 3 storm, packing winds of more than 110 miles per hour.It was also the most intense hurricane to strike the continental United States since Katrina,first Category 5 hurricane of the 2017 season, Irma caused widespread and catastrophic damage throughout its long lifetime, particularly in the northeastern Caribbean and the Florida Keys.The word Irmageddon was coined soon after the hurricane to describe the damage caused by the hurricane_**"
   ]
  },
  {
   "cell_type": "markdown",
   "metadata": {},
   "source": [
    "## Location id:  Florida (\"FIPS:12\")"
   ]
  },
  {
   "cell_type": "markdown",
   "metadata": {},
   "source": [
    "### Dataset id: \"GHCND\" (name: \"Daily Summaries\")"
   ]
  },
  {
   "cell_type": "markdown",
   "metadata": {},
   "source": [
    "![Irma landfall](Images/Hurricane_Irma_landfall.jpg)"
   ]
  },
  {
   "cell_type": "markdown",
   "metadata": {},
   "source": [
    "## Let's see all the stations near Southern Florida where Irma made landfall"
   ]
  },
  {
   "cell_type": "code",
   "execution_count": 2,
   "metadata": {},
   "outputs": [
    {
     "name": "stdout",
     "output_type": "stream",
     "text": [
      "\u001b[1mZipcode :ZIP:34145\u001b[0m\n",
      "Request status code: 200\n",
      "\u001b[1mZipcode :ZIP:34113\u001b[0m\n",
      "Request status code: 200\n",
      "\u001b[1mZipcode :ZIP:34141\u001b[0m\n",
      "Request status code: 200\n",
      "\u001b[1mZipcode :ZIP:33034\u001b[0m\n",
      "Request status code: 200\n",
      "\u001b[1mZipcode :ZIP:33187\u001b[0m\n",
      "Request status code: 200\n"
     ]
    }
   ],
   "source": [
    "import json\n",
    "# Let's get fetch all the stations in Marco Island and Southern Florida\n",
    "# Marco Island,FL (34145); Naples, FL (34113); Ochopee, FL (34141); Homestead, FL (33034); Miami, FL (33187)\n",
    "mytoken = noaa_key\n",
    "location_id = \"FIPS:12\"\n",
    "dataset_id = \"GHCND\"\n",
    "zipcodes = [\"ZIP:34145\",\"ZIP:34113\",\"ZIP:34141\",\"ZIP:33034\",\"ZIP:33187\"]\n",
    "# Define base url to get weather summaries\n",
    "base_url = \"https://www.ncdc.noaa.gov/cdo-web/api/v2/stations?\"\n",
    "# Let's create a list to hold the responses from API call\n",
    "station_id = []\n",
    "station_name = []\n",
    "latitude = []\n",
    "longitude = []\n",
    "for zipcode in zipcodes:\n",
    "    # Create a query_url\n",
    "    query_url = base_url+\"datasetid=GHCND\"+\"&\"+\"locationid=\"+str(zipcode)+\"&\"+\"limit=50\"\n",
    "    # Create the request query\n",
    "    response = requests.get(query_url, headers = {\"token\":mytoken})\n",
    "    # Print the response url \n",
    "    print('\\033[1m'+\"Zipcode :{}\".format(zipcode)+'\\033[0m')\n",
    "    print(\"Request status code: \"+str(response.status_code))\n",
    "    response_json = response.json()\n",
    "    # Let's fill the dictionaries from the response file\n",
    "    for i in range(len(response_json[\"results\"])):\n",
    "        try:\n",
    "            station_id.append(response_json[\"results\"][i][\"id\"])\n",
    "            station_name.append(response_json[\"results\"][i][\"name\"])\n",
    "            latitude.append(response_json[\"results\"][i][\"latitude\"])\n",
    "            longitude.append(response_json[\"results\"][i][\"longitude\"])\n",
    "            # Handle exceptions for data not found in the response file\n",
    "        except(KeyError, ValueError):\n",
    "            # Print error message\n",
    "            print(\"Index {} : Data Not found ! Skipping..\".format(i))\n",
    "            pass"
   ]
  },
  {
   "cell_type": "markdown",
   "metadata": {},
   "source": [
    "## Creating a dataframe from the response"
   ]
  },
  {
   "cell_type": "code",
   "execution_count": 3,
   "metadata": {},
   "outputs": [
    {
     "name": "stdout",
     "output_type": "stream",
     "text": [
      "\u001b[1mThe shape of the df_SouthFLstations dataframe is: (20, 4)\u001b[0m\n"
     ]
    },
    {
     "data": {
      "text/html": [
       "<div>\n",
       "<style scoped>\n",
       "    .dataframe tbody tr th:only-of-type {\n",
       "        vertical-align: middle;\n",
       "    }\n",
       "\n",
       "    .dataframe tbody tr th {\n",
       "        vertical-align: top;\n",
       "    }\n",
       "\n",
       "    .dataframe thead th {\n",
       "        text-align: right;\n",
       "    }\n",
       "</style>\n",
       "<table border=\"1\" class=\"dataframe\">\n",
       "  <thead>\n",
       "    <tr style=\"text-align: right;\">\n",
       "      <th></th>\n",
       "      <th>Station id</th>\n",
       "      <th>Station name</th>\n",
       "      <th>Latitude</th>\n",
       "      <th>Longitude</th>\n",
       "    </tr>\n",
       "  </thead>\n",
       "  <tbody>\n",
       "    <tr>\n",
       "      <th>0</th>\n",
       "      <td>GHCND:US1FLCR0003</td>\n",
       "      <td>MARCO 0.2 SSE, FL US</td>\n",
       "      <td>25.939560</td>\n",
       "      <td>-81.715390</td>\n",
       "    </tr>\n",
       "    <tr>\n",
       "      <th>1</th>\n",
       "      <td>GHCND:US1FLCR0056</td>\n",
       "      <td>MARCO 1.1 SSE, FL US</td>\n",
       "      <td>25.928500</td>\n",
       "      <td>-81.709400</td>\n",
       "    </tr>\n",
       "    <tr>\n",
       "      <th>2</th>\n",
       "      <td>GHCND:USC00085359</td>\n",
       "      <td>MARCO ISLAND, FL US</td>\n",
       "      <td>25.949100</td>\n",
       "      <td>-81.713800</td>\n",
       "    </tr>\n",
       "    <tr>\n",
       "      <th>3</th>\n",
       "      <td>GHCND:US1FLCR0012</td>\n",
       "      <td>NAPLES 5.7 SE, FL US</td>\n",
       "      <td>26.097565</td>\n",
       "      <td>-81.722053</td>\n",
       "    </tr>\n",
       "    <tr>\n",
       "      <th>4</th>\n",
       "      <td>GHCND:US1FLCR0042</td>\n",
       "      <td>CHOKOLOSKEE 0.3 ENE, FL US</td>\n",
       "      <td>25.816577</td>\n",
       "      <td>-81.357293</td>\n",
       "    </tr>\n",
       "    <tr>\n",
       "      <th>5</th>\n",
       "      <td>GHCND:USC00081556</td>\n",
       "      <td>CHOKOLOSKEE, FL US</td>\n",
       "      <td>25.814440</td>\n",
       "      <td>-81.361670</td>\n",
       "    </tr>\n",
       "    <tr>\n",
       "      <th>6</th>\n",
       "      <td>GHCND:USC00082850</td>\n",
       "      <td>EVERGLADES, FL US</td>\n",
       "      <td>25.848900</td>\n",
       "      <td>-81.389600</td>\n",
       "    </tr>\n",
       "    <tr>\n",
       "      <th>7</th>\n",
       "      <td>GHCND:USC00085866</td>\n",
       "      <td>MONROE, FL US</td>\n",
       "      <td>25.850000</td>\n",
       "      <td>-81.100000</td>\n",
       "    </tr>\n",
       "    <tr>\n",
       "      <th>8</th>\n",
       "      <td>GHCND:USC00086406</td>\n",
       "      <td>OASIS RANGER STATION, FL US</td>\n",
       "      <td>25.860400</td>\n",
       "      <td>-81.033000</td>\n",
       "    </tr>\n",
       "    <tr>\n",
       "      <th>9</th>\n",
       "      <td>GHCND:USR0000FOAS</td>\n",
       "      <td>OASIS FLORIDA, FL US</td>\n",
       "      <td>25.850000</td>\n",
       "      <td>-81.030000</td>\n",
       "    </tr>\n",
       "  </tbody>\n",
       "</table>\n",
       "</div>"
      ],
      "text/plain": [
       "          Station id                 Station name   Latitude  Longitude\n",
       "0  GHCND:US1FLCR0003         MARCO 0.2 SSE, FL US  25.939560 -81.715390\n",
       "1  GHCND:US1FLCR0056         MARCO 1.1 SSE, FL US  25.928500 -81.709400\n",
       "2  GHCND:USC00085359          MARCO ISLAND, FL US  25.949100 -81.713800\n",
       "3  GHCND:US1FLCR0012         NAPLES 5.7 SE, FL US  26.097565 -81.722053\n",
       "4  GHCND:US1FLCR0042   CHOKOLOSKEE 0.3 ENE, FL US  25.816577 -81.357293\n",
       "5  GHCND:USC00081556           CHOKOLOSKEE, FL US  25.814440 -81.361670\n",
       "6  GHCND:USC00082850            EVERGLADES, FL US  25.848900 -81.389600\n",
       "7  GHCND:USC00085866                MONROE, FL US  25.850000 -81.100000\n",
       "8  GHCND:USC00086406  OASIS RANGER STATION, FL US  25.860400 -81.033000\n",
       "9  GHCND:USR0000FOAS         OASIS FLORIDA, FL US  25.850000 -81.030000"
      ]
     },
     "execution_count": 3,
     "metadata": {},
     "output_type": "execute_result"
    }
   ],
   "source": [
    "# Let's create a DataFrame with the lists\n",
    "df_SouthFLstations = pd.DataFrame({\n",
    "    \"Station id\": station_id,\n",
    "    \"Station name\": station_name,\n",
    "    \"Latitude\": latitude,\n",
    "    \"Longitude\": longitude\n",
    "})\n",
    "print('\\033[1m'+\"The shape of the {} dataframe is: {}\" .format(\"df_SouthFLstations\",df_SouthFLstations.shape)+'\\033[0m')\n",
    "df_SouthFLstations.head(10) # Display the DataFrame"
   ]
  },
  {
   "cell_type": "code",
   "execution_count": 4,
   "metadata": {},
   "outputs": [],
   "source": [
    "# Let's create a list of stations \n",
    "SouthFLstations = pd.Series(df_SouthFLstations[\"Station id\"])"
   ]
  },
  {
   "cell_type": "markdown",
   "metadata": {},
   "source": [
    "## Let's collect data from the selected zipcodes close to the days Irma made landfall"
   ]
  },
  {
   "cell_type": "markdown",
   "metadata": {},
   "source": [
    "### Collect response from the selected zipcodes "
   ]
  },
  {
   "cell_type": "code",
   "execution_count": 5,
   "metadata": {},
   "outputs": [
    {
     "name": "stdout",
     "output_type": "stream",
     "text": [
      "\u001b[1mZipcode :ZIP:34145\u001b[0m\n",
      "Request status code: 200\n",
      "\u001b[1mZipcode :ZIP:34113\u001b[0m\n",
      "Request status code: 200\n",
      "\u001b[1mZipcode :ZIP:34141\u001b[0m\n",
      "Request status code: 200\n",
      "\u001b[1mZipcode :ZIP:33034\u001b[0m\n",
      "Request status code: 200\n",
      "\u001b[1mZipcode :ZIP:33187\u001b[0m\n",
      "Request status code: 200\n"
     ]
    }
   ],
   "source": [
    "import json\n",
    "# Let's get fetch data from all the stations in Marco Island and Southern Florida\n",
    "# Marco Island,FL (34145); Naples, FL (34113); Ochopee, FL (34141); Homestead, FL (33034); Miami, FL (33187)\n",
    "mytoken = noaa_key\n",
    "location_id = \"FIPS:12\"\n",
    "dataset_id = \"GHCND\"\n",
    "zipcodes = [\"ZIP:34145\",\"ZIP:34113\",\"ZIP:34141\",\"ZIP:33034\",\"ZIP:33187\"]\n",
    "start_date = \"2017-09-05\"\n",
    "end_date = \"2017-09-16\"\n",
    "# Define base url to get weather summaries\n",
    "base_url = \"https://www.ncdc.noaa.gov/cdo-web/api/v2/data?\"\n",
    "# Let's create a list of dictionaries\n",
    "weather_data = []\n",
    "# Display the start of Data Retrieval\n",
    "#print(f\"****** Beginning Data Retrieval *********\")\n",
    "# Let's fill the dictionaries from the response file\n",
    "for zipcode in zipcodes:\n",
    "    # Create a query_url\n",
    "    query_url = base_url+\"datasetid=\"+str(dataset_id)+\"&\"+\"locationid=\"+str(zipcode)+\"&\"+\"startdate=\"+str(start_date)+\"&\"+\"enddate=\"+str(end_date)+\"&\"+\"limit=50\"+\"&\"+\"units=standard\"\n",
    "    # Create the request query\n",
    "    response = requests.get(query_url, headers = {\"token\":mytoken})\n",
    "    # Print the response url \n",
    "    print('\\033[1m'+\"Zipcode :{}\".format(zipcode)+'\\033[0m')\n",
    "    print(\"Request status code: \"+str(response.status_code))\n",
    "    response_json = response.json()\n",
    "    if len(response_json[\"results\"]) != 0:\n",
    "        for i in range(len(response_json[\"results\"])):\n",
    "            try:\n",
    "                datatype = response_json[\"results\"][i][\"datatype\"]\n",
    "                date = response_json[\"results\"][i][\"date\"]\n",
    "                station = response_json[\"results\"][i][\"station\"]\n",
    "                value = response_json[\"results\"][i][\"value\"]\n",
    "                weather_data.append({\"DataType\":datatype,\n",
    "                                    \"Date\":date,\n",
    "                                    \"Station id\":station,\n",
    "                                    \"Value\":value})\n",
    "            # Handle exceptions for data not found in the response file\n",
    "            except(KeyError, ValueError):\n",
    "            # Print error message\n",
    "                print(\"Index {} : Data Not found ! Skipping..\".format(i))\n",
    "            pass\n",
    "    else:\n",
    "        continue\n",
    "        \n",
    "#print(f\"****** Data Retrieval Complete **********\")"
   ]
  },
  {
   "cell_type": "markdown",
   "metadata": {},
   "source": [
    "### Creating a dataframe from the response"
   ]
  },
  {
   "cell_type": "code",
   "execution_count": 6,
   "metadata": {},
   "outputs": [
    {
     "name": "stdout",
     "output_type": "stream",
     "text": [
      "\u001b[1mThe shape of the df_weather dataframe is: (288, 4)\u001b[0m\n"
     ]
    },
    {
     "data": {
      "text/html": [
       "<div>\n",
       "<style scoped>\n",
       "    .dataframe tbody tr th:only-of-type {\n",
       "        vertical-align: middle;\n",
       "    }\n",
       "\n",
       "    .dataframe tbody tr th {\n",
       "        vertical-align: top;\n",
       "    }\n",
       "\n",
       "    .dataframe thead th {\n",
       "        text-align: right;\n",
       "    }\n",
       "</style>\n",
       "<table border=\"1\" class=\"dataframe\">\n",
       "  <thead>\n",
       "    <tr style=\"text-align: right;\">\n",
       "      <th></th>\n",
       "      <th>DataType</th>\n",
       "      <th>Date</th>\n",
       "      <th>Station id</th>\n",
       "      <th>Value</th>\n",
       "    </tr>\n",
       "  </thead>\n",
       "  <tbody>\n",
       "    <tr>\n",
       "      <th>0</th>\n",
       "      <td>PRCP</td>\n",
       "      <td>2017-09-05T00:00:00</td>\n",
       "      <td>GHCND:USC00085359</td>\n",
       "      <td>0.16</td>\n",
       "    </tr>\n",
       "    <tr>\n",
       "      <th>1</th>\n",
       "      <td>TMAX</td>\n",
       "      <td>2017-09-05T00:00:00</td>\n",
       "      <td>GHCND:USC00085359</td>\n",
       "      <td>93.00</td>\n",
       "    </tr>\n",
       "    <tr>\n",
       "      <th>2</th>\n",
       "      <td>TMIN</td>\n",
       "      <td>2017-09-05T00:00:00</td>\n",
       "      <td>GHCND:USC00085359</td>\n",
       "      <td>77.00</td>\n",
       "    </tr>\n",
       "    <tr>\n",
       "      <th>3</th>\n",
       "      <td>TOBS</td>\n",
       "      <td>2017-09-05T00:00:00</td>\n",
       "      <td>GHCND:USC00085359</td>\n",
       "      <td>78.00</td>\n",
       "    </tr>\n",
       "    <tr>\n",
       "      <th>4</th>\n",
       "      <td>WT03</td>\n",
       "      <td>2017-09-05T00:00:00</td>\n",
       "      <td>GHCND:USC00085359</td>\n",
       "      <td>1.00</td>\n",
       "    </tr>\n",
       "    <tr>\n",
       "      <th>5</th>\n",
       "      <td>PRCP</td>\n",
       "      <td>2017-09-06T00:00:00</td>\n",
       "      <td>GHCND:USC00085359</td>\n",
       "      <td>0.01</td>\n",
       "    </tr>\n",
       "    <tr>\n",
       "      <th>6</th>\n",
       "      <td>TMAX</td>\n",
       "      <td>2017-09-06T00:00:00</td>\n",
       "      <td>GHCND:USC00085359</td>\n",
       "      <td>93.00</td>\n",
       "    </tr>\n",
       "    <tr>\n",
       "      <th>7</th>\n",
       "      <td>TMIN</td>\n",
       "      <td>2017-09-06T00:00:00</td>\n",
       "      <td>GHCND:USC00085359</td>\n",
       "      <td>78.00</td>\n",
       "    </tr>\n",
       "    <tr>\n",
       "      <th>8</th>\n",
       "      <td>TOBS</td>\n",
       "      <td>2017-09-06T00:00:00</td>\n",
       "      <td>GHCND:USC00085359</td>\n",
       "      <td>78.00</td>\n",
       "    </tr>\n",
       "    <tr>\n",
       "      <th>9</th>\n",
       "      <td>PRCP</td>\n",
       "      <td>2017-09-07T00:00:00</td>\n",
       "      <td>GHCND:USC00085359</td>\n",
       "      <td>0.00</td>\n",
       "    </tr>\n",
       "  </tbody>\n",
       "</table>\n",
       "</div>"
      ],
      "text/plain": [
       "  DataType                 Date         Station id  Value\n",
       "0     PRCP  2017-09-05T00:00:00  GHCND:USC00085359   0.16\n",
       "1     TMAX  2017-09-05T00:00:00  GHCND:USC00085359  93.00\n",
       "2     TMIN  2017-09-05T00:00:00  GHCND:USC00085359  77.00\n",
       "3     TOBS  2017-09-05T00:00:00  GHCND:USC00085359  78.00\n",
       "4     WT03  2017-09-05T00:00:00  GHCND:USC00085359   1.00\n",
       "5     PRCP  2017-09-06T00:00:00  GHCND:USC00085359   0.01\n",
       "6     TMAX  2017-09-06T00:00:00  GHCND:USC00085359  93.00\n",
       "7     TMIN  2017-09-06T00:00:00  GHCND:USC00085359  78.00\n",
       "8     TOBS  2017-09-06T00:00:00  GHCND:USC00085359  78.00\n",
       "9     PRCP  2017-09-07T00:00:00  GHCND:USC00085359   0.00"
      ]
     },
     "execution_count": 6,
     "metadata": {},
     "output_type": "execute_result"
    }
   ],
   "source": [
    "# Let's create a DataFrame with the lists\n",
    "df_weather = pd.DataFrame(weather_data)\n",
    "print('\\033[1m'+\"The shape of the {} dataframe is: {}\" .format(\"df_weather\",df_weather.shape)+'\\033[0m')\n",
    "df_weather.head(10) # Display the DataFrame"
   ]
  },
  {
   "cell_type": "code",
   "execution_count": 7,
   "metadata": {},
   "outputs": [],
   "source": [
    "# Let's create a list of stations \n",
    "LWeatherStations = pd.Series(df_weather[\"Station id\"])"
   ]
  },
  {
   "cell_type": "markdown",
   "metadata": {},
   "source": [
    "![Hurricane Irma](Images/Hurricane-IrmaA.jpg)"
   ]
  },
  {
   "cell_type": "markdown",
   "metadata": {},
   "source": [
    "### Any common stations between the  two lists ?"
   ]
  },
  {
   "cell_type": "code",
   "execution_count": 8,
   "metadata": {},
   "outputs": [
    {
     "name": "stdout",
     "output_type": "stream",
     "text": [
      "\u001b[1mAre there common stations between lists? True\u001b[0m\n"
     ]
    }
   ],
   "source": [
    "def common_member (x,y):\n",
    "    x_set = set(x)\n",
    "    y_set = set(y)\n",
    "    if len(x_set.intersection(y_set))>0:\n",
    "        return(True)\n",
    "    return(False)\n",
    "print('\\033[1m'+\"Are there common stations between lists? {}\" .format(common_member(LWeatherStations,SouthFLstations))+'\\033[0m')"
   ]
  },
  {
   "cell_type": "code",
   "execution_count": 9,
   "metadata": {},
   "outputs": [
    {
     "name": "stdout",
     "output_type": "stream",
     "text": [
      "\u001b[1mNumber of stations without geo-cordinates: 0\u001b[0m\n",
      "\u001b[1mStations without geo-cordinates: set()\u001b[0m\n"
     ]
    }
   ],
   "source": [
    "x_set = set(LWeatherStations)\n",
    "y_set = set(SouthFLstations)\n",
    "print('\\033[1m'+\"Number of stations without geo-cordinates: {}\" .format(len(x_set-y_set))+'\\033[0m')\n",
    "print('\\033[1m'+\"Stations without geo-cordinates: {}\" .format((x_set-y_set))+'\\033[0m')"
   ]
  },
  {
   "cell_type": "markdown",
   "metadata": {},
   "source": [
    "## Creating a combined dataframe with geo coordinates"
   ]
  },
  {
   "cell_type": "code",
   "execution_count": 31,
   "metadata": {},
   "outputs": [
    {
     "name": "stdout",
     "output_type": "stream",
     "text": [
      "\u001b[96m\u001b[1mThe shape of the df_SouthFLWeather dataframe is (288, 7):\u001b[0m\n"
     ]
    },
    {
     "data": {
      "text/html": [
       "<div>\n",
       "<style scoped>\n",
       "    .dataframe tbody tr th:only-of-type {\n",
       "        vertical-align: middle;\n",
       "    }\n",
       "\n",
       "    .dataframe tbody tr th {\n",
       "        vertical-align: top;\n",
       "    }\n",
       "\n",
       "    .dataframe thead th {\n",
       "        text-align: right;\n",
       "    }\n",
       "</style>\n",
       "<table border=\"1\" class=\"dataframe\">\n",
       "  <thead>\n",
       "    <tr style=\"text-align: right;\">\n",
       "      <th></th>\n",
       "      <th>DataType</th>\n",
       "      <th>Date</th>\n",
       "      <th>Station id</th>\n",
       "      <th>Value</th>\n",
       "      <th>Station name</th>\n",
       "      <th>Latitude</th>\n",
       "      <th>Longitude</th>\n",
       "    </tr>\n",
       "  </thead>\n",
       "  <tbody>\n",
       "    <tr>\n",
       "      <th>0</th>\n",
       "      <td>PRCP</td>\n",
       "      <td>2017-09-05</td>\n",
       "      <td>GHCND:USC00085359</td>\n",
       "      <td>0.16</td>\n",
       "      <td>MARCO ISLAND, FL US</td>\n",
       "      <td>25.9491</td>\n",
       "      <td>-81.7138</td>\n",
       "    </tr>\n",
       "    <tr>\n",
       "      <th>1</th>\n",
       "      <td>TMAX</td>\n",
       "      <td>2017-09-05</td>\n",
       "      <td>GHCND:USC00085359</td>\n",
       "      <td>93.00</td>\n",
       "      <td>MARCO ISLAND, FL US</td>\n",
       "      <td>25.9491</td>\n",
       "      <td>-81.7138</td>\n",
       "    </tr>\n",
       "    <tr>\n",
       "      <th>2</th>\n",
       "      <td>TMIN</td>\n",
       "      <td>2017-09-05</td>\n",
       "      <td>GHCND:USC00085359</td>\n",
       "      <td>77.00</td>\n",
       "      <td>MARCO ISLAND, FL US</td>\n",
       "      <td>25.9491</td>\n",
       "      <td>-81.7138</td>\n",
       "    </tr>\n",
       "    <tr>\n",
       "      <th>3</th>\n",
       "      <td>TOBS</td>\n",
       "      <td>2017-09-05</td>\n",
       "      <td>GHCND:USC00085359</td>\n",
       "      <td>78.00</td>\n",
       "      <td>MARCO ISLAND, FL US</td>\n",
       "      <td>25.9491</td>\n",
       "      <td>-81.7138</td>\n",
       "    </tr>\n",
       "    <tr>\n",
       "      <th>4</th>\n",
       "      <td>WT03</td>\n",
       "      <td>2017-09-05</td>\n",
       "      <td>GHCND:USC00085359</td>\n",
       "      <td>1.00</td>\n",
       "      <td>MARCO ISLAND, FL US</td>\n",
       "      <td>25.9491</td>\n",
       "      <td>-81.7138</td>\n",
       "    </tr>\n",
       "    <tr>\n",
       "      <th>5</th>\n",
       "      <td>PRCP</td>\n",
       "      <td>2017-09-06</td>\n",
       "      <td>GHCND:USC00085359</td>\n",
       "      <td>0.01</td>\n",
       "      <td>MARCO ISLAND, FL US</td>\n",
       "      <td>25.9491</td>\n",
       "      <td>-81.7138</td>\n",
       "    </tr>\n",
       "    <tr>\n",
       "      <th>6</th>\n",
       "      <td>TMAX</td>\n",
       "      <td>2017-09-06</td>\n",
       "      <td>GHCND:USC00085359</td>\n",
       "      <td>93.00</td>\n",
       "      <td>MARCO ISLAND, FL US</td>\n",
       "      <td>25.9491</td>\n",
       "      <td>-81.7138</td>\n",
       "    </tr>\n",
       "    <tr>\n",
       "      <th>7</th>\n",
       "      <td>TMIN</td>\n",
       "      <td>2017-09-06</td>\n",
       "      <td>GHCND:USC00085359</td>\n",
       "      <td>78.00</td>\n",
       "      <td>MARCO ISLAND, FL US</td>\n",
       "      <td>25.9491</td>\n",
       "      <td>-81.7138</td>\n",
       "    </tr>\n",
       "    <tr>\n",
       "      <th>8</th>\n",
       "      <td>TOBS</td>\n",
       "      <td>2017-09-06</td>\n",
       "      <td>GHCND:USC00085359</td>\n",
       "      <td>78.00</td>\n",
       "      <td>MARCO ISLAND, FL US</td>\n",
       "      <td>25.9491</td>\n",
       "      <td>-81.7138</td>\n",
       "    </tr>\n",
       "    <tr>\n",
       "      <th>9</th>\n",
       "      <td>PRCP</td>\n",
       "      <td>2017-09-07</td>\n",
       "      <td>GHCND:USC00085359</td>\n",
       "      <td>0.00</td>\n",
       "      <td>MARCO ISLAND, FL US</td>\n",
       "      <td>25.9491</td>\n",
       "      <td>-81.7138</td>\n",
       "    </tr>\n",
       "  </tbody>\n",
       "</table>\n",
       "</div>"
      ],
      "text/plain": [
       "  DataType        Date         Station id  Value         Station name  \\\n",
       "0     PRCP  2017-09-05  GHCND:USC00085359   0.16  MARCO ISLAND, FL US   \n",
       "1     TMAX  2017-09-05  GHCND:USC00085359  93.00  MARCO ISLAND, FL US   \n",
       "2     TMIN  2017-09-05  GHCND:USC00085359  77.00  MARCO ISLAND, FL US   \n",
       "3     TOBS  2017-09-05  GHCND:USC00085359  78.00  MARCO ISLAND, FL US   \n",
       "4     WT03  2017-09-05  GHCND:USC00085359   1.00  MARCO ISLAND, FL US   \n",
       "5     PRCP  2017-09-06  GHCND:USC00085359   0.01  MARCO ISLAND, FL US   \n",
       "6     TMAX  2017-09-06  GHCND:USC00085359  93.00  MARCO ISLAND, FL US   \n",
       "7     TMIN  2017-09-06  GHCND:USC00085359  78.00  MARCO ISLAND, FL US   \n",
       "8     TOBS  2017-09-06  GHCND:USC00085359  78.00  MARCO ISLAND, FL US   \n",
       "9     PRCP  2017-09-07  GHCND:USC00085359   0.00  MARCO ISLAND, FL US   \n",
       "\n",
       "   Latitude  Longitude  \n",
       "0   25.9491   -81.7138  \n",
       "1   25.9491   -81.7138  \n",
       "2   25.9491   -81.7138  \n",
       "3   25.9491   -81.7138  \n",
       "4   25.9491   -81.7138  \n",
       "5   25.9491   -81.7138  \n",
       "6   25.9491   -81.7138  \n",
       "7   25.9491   -81.7138  \n",
       "8   25.9491   -81.7138  \n",
       "9   25.9491   -81.7138  "
      ]
     },
     "execution_count": 31,
     "metadata": {},
     "output_type": "execute_result"
    }
   ],
   "source": [
    "# Combine the dataframes into a single dataframe\n",
    "df_SouthFLWeather = pd.merge(df_weather, df_SouthFLstations, how=\"inner\", on=\"Station id\")\n",
    "# Using list comprehensions to remove the time stamp from Date\n",
    "df_SouthFLWeather[\"Date\"] = [v[:-9] for v in df_SouthFLWeather[\"Date\"]]\n",
    "# Display the Dataframe\n",
    "print('\\033[96m'+'\\033[1m'+\"The shape of the {} dataframe is {}:\" .format(\"df_SouthFLWeather\",df_SouthFLWeather.shape)+'\\033[0m')\n",
    "df_SouthFLWeather.head(10)"
   ]
  },
  {
   "cell_type": "code",
   "execution_count": 11,
   "metadata": {},
   "outputs": [
    {
     "name": "stdout",
     "output_type": "stream",
     "text": [
      "['PRCP', 'TMAX', 'TMIN', 'TOBS', 'WT03', 'WT11', 'DAPR', 'MDPR', 'SNOW', 'TAVG']\n"
     ]
    }
   ],
   "source": [
    "# Let's see the unique datatypes in the final DataFrame\n",
    "print(df_SouthFLWeather[\"DataType\"].unique().tolist())"
   ]
  },
  {
   "cell_type": "markdown",
   "metadata": {},
   "source": [
    "## Definition of the data types :\n",
    "* PRCP  : Precipitation (mm or inches)\n",
    "* DAPR  : Number of days included in multiday precipitation total (MDPR)\n",
    "* SNOW  : Snowfall (mm or inches)\n",
    "* MDPR  : Multiday precipitation total (mm or inches)\n",
    "* TMAX  : Maximim Temperature (Fahrenheit or Celsius)\n",
    "* TMIN  : Minimum Temperature (Fahrenheit or Celsius)\n",
    "* TOBS  : Temperature at the time of observation (Fahrenheit or Celsius)\n",
    "* WT11  : High or damaging winds\n",
    "* WT03  : Ice pellets, sleet, snow pellets or small hail"
   ]
  },
  {
   "cell_type": "markdown",
   "metadata": {},
   "source": [
    "## Let's see how many data points are available for each weather types"
   ]
  },
  {
   "cell_type": "code",
   "execution_count": 25,
   "metadata": {},
   "outputs": [
    {
     "name": "stdout",
     "output_type": "stream",
     "text": [
      "\u001b[96m\u001b[1mThe shape of weather count dataframe is (10, 2):\u001b[0m\n"
     ]
    },
    {
     "data": {
      "text/html": [
       "<div>\n",
       "<style scoped>\n",
       "    .dataframe tbody tr th:only-of-type {\n",
       "        vertical-align: middle;\n",
       "    }\n",
       "\n",
       "    .dataframe tbody tr th {\n",
       "        vertical-align: top;\n",
       "    }\n",
       "\n",
       "    .dataframe thead th {\n",
       "        text-align: right;\n",
       "    }\n",
       "</style>\n",
       "<table border=\"1\" class=\"dataframe\">\n",
       "  <thead>\n",
       "    <tr style=\"text-align: right;\">\n",
       "      <th></th>\n",
       "      <th>DataType</th>\n",
       "      <th>Count</th>\n",
       "    </tr>\n",
       "  </thead>\n",
       "  <tbody>\n",
       "    <tr>\n",
       "      <th>0</th>\n",
       "      <td>TMAX</td>\n",
       "      <td>74</td>\n",
       "    </tr>\n",
       "    <tr>\n",
       "      <th>1</th>\n",
       "      <td>TMIN</td>\n",
       "      <td>74</td>\n",
       "    </tr>\n",
       "    <tr>\n",
       "      <th>2</th>\n",
       "      <td>PRCP</td>\n",
       "      <td>58</td>\n",
       "    </tr>\n",
       "    <tr>\n",
       "      <th>3</th>\n",
       "      <td>TAVG</td>\n",
       "      <td>36</td>\n",
       "    </tr>\n",
       "    <tr>\n",
       "      <th>4</th>\n",
       "      <td>TOBS</td>\n",
       "      <td>29</td>\n",
       "    </tr>\n",
       "    <tr>\n",
       "      <th>5</th>\n",
       "      <td>WT03</td>\n",
       "      <td>6</td>\n",
       "    </tr>\n",
       "    <tr>\n",
       "      <th>6</th>\n",
       "      <td>DAPR</td>\n",
       "      <td>4</td>\n",
       "    </tr>\n",
       "    <tr>\n",
       "      <th>7</th>\n",
       "      <td>MDPR</td>\n",
       "      <td>3</td>\n",
       "    </tr>\n",
       "    <tr>\n",
       "      <th>8</th>\n",
       "      <td>SNOW</td>\n",
       "      <td>2</td>\n",
       "    </tr>\n",
       "    <tr>\n",
       "      <th>9</th>\n",
       "      <td>WT11</td>\n",
       "      <td>2</td>\n",
       "    </tr>\n",
       "  </tbody>\n",
       "</table>\n",
       "</div>"
      ],
      "text/plain": [
       "  DataType  Count\n",
       "0     TMAX     74\n",
       "1     TMIN     74\n",
       "2     PRCP     58\n",
       "3     TAVG     36\n",
       "4     TOBS     29\n",
       "5     WT03      6\n",
       "6     DAPR      4\n",
       "7     MDPR      3\n",
       "8     SNOW      2\n",
       "9     WT11      2"
      ]
     },
     "execution_count": 25,
     "metadata": {},
     "output_type": "execute_result"
    }
   ],
   "source": [
    "# Let's groupby data-type column in the dataframe and count the ocurrences\n",
    "grouped_count = df_SouthFLWeather[\"DataType\"].groupby(df_SouthFLWeather[\"DataType\"]) # Create a GroupBy object\n",
    "# Let's create a dataframe with the number of data points for each weather data type\n",
    "weather_count_unsorted = grouped_count.count().to_frame(\"Count\")\n",
    "# Let's sort the dataframe by number of count\n",
    "weather_count = weather_count_unsorted.sort_values(by=\"Count\",ascending=False)\n",
    "# Let's reset index in the new dataframe\n",
    "weather_count.reset_index(inplace=True)\n",
    "# Display the Dataframe\n",
    "print('\\033[96m'+'\\033[1m'+\"The shape of weather count dataframe is {}:\" .format(weather_count.shape)+'\\033[0m')\n",
    "weather_count"
   ]
  },
  {
   "cell_type": "markdown",
   "metadata": {},
   "source": [
    "## Precipitation in Southern Florids when hurricane Irma made landfall"
   ]
  },
  {
   "cell_type": "code",
   "execution_count": 26,
   "metadata": {},
   "outputs": [
    {
     "name": "stdout",
     "output_type": "stream",
     "text": [
      "\u001b[94m\u001b[1mThe shape of the precipitation dataframe is:(58, 7)\u001b[0m\n"
     ]
    },
    {
     "data": {
      "text/html": [
       "<div>\n",
       "<style scoped>\n",
       "    .dataframe tbody tr th:only-of-type {\n",
       "        vertical-align: middle;\n",
       "    }\n",
       "\n",
       "    .dataframe tbody tr th {\n",
       "        vertical-align: top;\n",
       "    }\n",
       "\n",
       "    .dataframe thead th {\n",
       "        text-align: right;\n",
       "    }\n",
       "</style>\n",
       "<table border=\"1\" class=\"dataframe\">\n",
       "  <thead>\n",
       "    <tr style=\"text-align: right;\">\n",
       "      <th></th>\n",
       "      <th>DataType</th>\n",
       "      <th>Date</th>\n",
       "      <th>Station id</th>\n",
       "      <th>Value</th>\n",
       "      <th>Station name</th>\n",
       "      <th>Latitude</th>\n",
       "      <th>Longitude</th>\n",
       "    </tr>\n",
       "  </thead>\n",
       "  <tbody>\n",
       "    <tr>\n",
       "      <th>0</th>\n",
       "      <td>PRCP</td>\n",
       "      <td>2017-09-05</td>\n",
       "      <td>GHCND:USC00085359</td>\n",
       "      <td>0.16</td>\n",
       "      <td>MARCO ISLAND, FL US</td>\n",
       "      <td>25.949100</td>\n",
       "      <td>-81.713800</td>\n",
       "    </tr>\n",
       "    <tr>\n",
       "      <th>1</th>\n",
       "      <td>PRCP</td>\n",
       "      <td>2017-09-05</td>\n",
       "      <td>GHCND:USC00087760</td>\n",
       "      <td>0.00</td>\n",
       "      <td>ROYAL PALM RANGER STATION, FL US</td>\n",
       "      <td>25.386600</td>\n",
       "      <td>-80.593600</td>\n",
       "    </tr>\n",
       "    <tr>\n",
       "      <th>2</th>\n",
       "      <td>PRCP</td>\n",
       "      <td>2017-09-05</td>\n",
       "      <td>GHCND:USW00092826</td>\n",
       "      <td>0.46</td>\n",
       "      <td>EVERGLADES CITY 5 NE, FL US</td>\n",
       "      <td>25.899600</td>\n",
       "      <td>-81.318300</td>\n",
       "    </tr>\n",
       "    <tr>\n",
       "      <th>3</th>\n",
       "      <td>PRCP</td>\n",
       "      <td>2017-09-05</td>\n",
       "      <td>GHCND:US1FLCR0042</td>\n",
       "      <td>1.03</td>\n",
       "      <td>CHOKOLOSKEE 0.3 ENE, FL US</td>\n",
       "      <td>25.816577</td>\n",
       "      <td>-81.357293</td>\n",
       "    </tr>\n",
       "    <tr>\n",
       "      <th>4</th>\n",
       "      <td>PRCP</td>\n",
       "      <td>2017-09-05</td>\n",
       "      <td>GHCND:USC00087020</td>\n",
       "      <td>0.00</td>\n",
       "      <td>PERRINE 4 W, FL US</td>\n",
       "      <td>25.581900</td>\n",
       "      <td>-80.436100</td>\n",
       "    </tr>\n",
       "  </tbody>\n",
       "</table>\n",
       "</div>"
      ],
      "text/plain": [
       "  DataType        Date         Station id  Value  \\\n",
       "0     PRCP  2017-09-05  GHCND:USC00085359   0.16   \n",
       "1     PRCP  2017-09-05  GHCND:USC00087760   0.00   \n",
       "2     PRCP  2017-09-05  GHCND:USW00092826   0.46   \n",
       "3     PRCP  2017-09-05  GHCND:US1FLCR0042   1.03   \n",
       "4     PRCP  2017-09-05  GHCND:USC00087020   0.00   \n",
       "\n",
       "                       Station name   Latitude  Longitude  \n",
       "0               MARCO ISLAND, FL US  25.949100 -81.713800  \n",
       "1  ROYAL PALM RANGER STATION, FL US  25.386600 -80.593600  \n",
       "2       EVERGLADES CITY 5 NE, FL US  25.899600 -81.318300  \n",
       "3        CHOKOLOSKEE 0.3 ENE, FL US  25.816577 -81.357293  \n",
       "4                PERRINE 4 W, FL US  25.581900 -80.436100  "
      ]
     },
     "execution_count": 26,
     "metadata": {},
     "output_type": "execute_result"
    }
   ],
   "source": [
    "# Let's create a precipitation dataframe\n",
    "df_prcp_unsorted = df_SouthFLWeather.loc[(df_SouthFLWeather[\"DataType\"]==\"PRCP\"),:]\n",
    "# Let's sort the dataframe by Date\n",
    "df_prcp = df_prcp_unsorted.sort_values(by=\"Date\",ascending=True)\n",
    "# Let's reset index in the new dataframe\n",
    "df_prcp.reset_index(drop = True, inplace=True)\n",
    "# Save the dataframe to the output file\n",
    "df_prcp.to_csv(\"Output_Data/Irma_Prcp.csv\", index=False, encoding=\"utf-8\")\n",
    "# Display the dataframe\n",
    "print('\\033[94m'+'\\033[1m'+\"The shape of the precipitation dataframe is:{}\".format(df_prcp.shape)+'\\033[0m')\n",
    "df_prcp.head()"
   ]
  },
  {
   "cell_type": "markdown",
   "metadata": {},
   "source": [
    "## Maximum Temperature in Southern Florida when hurricane Irma made landfall"
   ]
  },
  {
   "cell_type": "code",
   "execution_count": 27,
   "metadata": {},
   "outputs": [
    {
     "name": "stdout",
     "output_type": "stream",
     "text": [
      "\u001b[94m\u001b[1mThe shape of the max temperature dataframe is:(74, 7)\u001b[0m\n"
     ]
    },
    {
     "data": {
      "text/html": [
       "<div>\n",
       "<style scoped>\n",
       "    .dataframe tbody tr th:only-of-type {\n",
       "        vertical-align: middle;\n",
       "    }\n",
       "\n",
       "    .dataframe tbody tr th {\n",
       "        vertical-align: top;\n",
       "    }\n",
       "\n",
       "    .dataframe thead th {\n",
       "        text-align: right;\n",
       "    }\n",
       "</style>\n",
       "<table border=\"1\" class=\"dataframe\">\n",
       "  <thead>\n",
       "    <tr style=\"text-align: right;\">\n",
       "      <th></th>\n",
       "      <th>DataType</th>\n",
       "      <th>Date</th>\n",
       "      <th>Station id</th>\n",
       "      <th>Value</th>\n",
       "      <th>Station name</th>\n",
       "      <th>Latitude</th>\n",
       "      <th>Longitude</th>\n",
       "    </tr>\n",
       "  </thead>\n",
       "  <tbody>\n",
       "    <tr>\n",
       "      <th>0</th>\n",
       "      <td>TMAX</td>\n",
       "      <td>2017-09-05</td>\n",
       "      <td>GHCND:USC00085359</td>\n",
       "      <td>93.0</td>\n",
       "      <td>MARCO ISLAND, FL US</td>\n",
       "      <td>25.9491</td>\n",
       "      <td>-81.7138</td>\n",
       "    </tr>\n",
       "    <tr>\n",
       "      <th>1</th>\n",
       "      <td>TMAX</td>\n",
       "      <td>2017-09-05</td>\n",
       "      <td>GHCND:USC00087760</td>\n",
       "      <td>98.0</td>\n",
       "      <td>ROYAL PALM RANGER STATION, FL US</td>\n",
       "      <td>25.3866</td>\n",
       "      <td>-80.5936</td>\n",
       "    </tr>\n",
       "    <tr>\n",
       "      <th>2</th>\n",
       "      <td>TMAX</td>\n",
       "      <td>2017-09-05</td>\n",
       "      <td>GHCND:USW00092826</td>\n",
       "      <td>97.0</td>\n",
       "      <td>EVERGLADES CITY 5 NE, FL US</td>\n",
       "      <td>25.8996</td>\n",
       "      <td>-81.3183</td>\n",
       "    </tr>\n",
       "    <tr>\n",
       "      <th>3</th>\n",
       "      <td>TMAX</td>\n",
       "      <td>2017-09-05</td>\n",
       "      <td>GHCND:USC00087020</td>\n",
       "      <td>92.0</td>\n",
       "      <td>PERRINE 4 W, FL US</td>\n",
       "      <td>25.5819</td>\n",
       "      <td>-80.4361</td>\n",
       "    </tr>\n",
       "    <tr>\n",
       "      <th>4</th>\n",
       "      <td>TMAX</td>\n",
       "      <td>2017-09-05</td>\n",
       "      <td>GHCND:USR0000FRAC</td>\n",
       "      <td>91.0</td>\n",
       "      <td>RACCOON POINT FLORIDA, FL US</td>\n",
       "      <td>25.9708</td>\n",
       "      <td>-80.9000</td>\n",
       "    </tr>\n",
       "  </tbody>\n",
       "</table>\n",
       "</div>"
      ],
      "text/plain": [
       "  DataType        Date         Station id  Value  \\\n",
       "0     TMAX  2017-09-05  GHCND:USC00085359   93.0   \n",
       "1     TMAX  2017-09-05  GHCND:USC00087760   98.0   \n",
       "2     TMAX  2017-09-05  GHCND:USW00092826   97.0   \n",
       "3     TMAX  2017-09-05  GHCND:USC00087020   92.0   \n",
       "4     TMAX  2017-09-05  GHCND:USR0000FRAC   91.0   \n",
       "\n",
       "                       Station name  Latitude  Longitude  \n",
       "0               MARCO ISLAND, FL US   25.9491   -81.7138  \n",
       "1  ROYAL PALM RANGER STATION, FL US   25.3866   -80.5936  \n",
       "2       EVERGLADES CITY 5 NE, FL US   25.8996   -81.3183  \n",
       "3                PERRINE 4 W, FL US   25.5819   -80.4361  \n",
       "4      RACCOON POINT FLORIDA, FL US   25.9708   -80.9000  "
      ]
     },
     "execution_count": 27,
     "metadata": {},
     "output_type": "execute_result"
    }
   ],
   "source": [
    "# Let's create maximum temperature dataframe\n",
    "df_MaxTemp_unsorted = df_SouthFLWeather.loc[(df_SouthFLWeather[\"DataType\"]==\"TMAX\"),:]\n",
    "# Let's sort the dataframe by Date\n",
    "df_MaxTemp = df_MaxTemp_unsorted.sort_values(by=\"Date\",ascending=True)\n",
    "# Let's reset index in the new dataframe\n",
    "df_MaxTemp.reset_index(drop = True, inplace=True)\n",
    "# Save the dataframe to the output file\n",
    "df_MaxTemp.to_csv(\"Output_Data/Irma_MaxTemp.csv\", index=False, encoding=\"utf-8\")\n",
    "# Display the dataframe\n",
    "print('\\033[94m'+'\\033[1m'+\"The shape of the max temperature dataframe is:{}\".format(df_MaxTemp.shape)+'\\033[0m')\n",
    "df_MaxTemp.head()"
   ]
  },
  {
   "cell_type": "markdown",
   "metadata": {},
   "source": [
    "## Minimum Temperature in Southern Florids when hurricane Irma made landfall"
   ]
  },
  {
   "cell_type": "code",
   "execution_count": 28,
   "metadata": {},
   "outputs": [
    {
     "name": "stdout",
     "output_type": "stream",
     "text": [
      "\u001b[96m\u001b[1mThe shape of the minimum temperature dataframe is:(74, 7)\u001b[0m\n"
     ]
    },
    {
     "data": {
      "text/html": [
       "<div>\n",
       "<style scoped>\n",
       "    .dataframe tbody tr th:only-of-type {\n",
       "        vertical-align: middle;\n",
       "    }\n",
       "\n",
       "    .dataframe tbody tr th {\n",
       "        vertical-align: top;\n",
       "    }\n",
       "\n",
       "    .dataframe thead th {\n",
       "        text-align: right;\n",
       "    }\n",
       "</style>\n",
       "<table border=\"1\" class=\"dataframe\">\n",
       "  <thead>\n",
       "    <tr style=\"text-align: right;\">\n",
       "      <th></th>\n",
       "      <th>DataType</th>\n",
       "      <th>Date</th>\n",
       "      <th>Station id</th>\n",
       "      <th>Value</th>\n",
       "      <th>Station name</th>\n",
       "      <th>Latitude</th>\n",
       "      <th>Longitude</th>\n",
       "    </tr>\n",
       "  </thead>\n",
       "  <tbody>\n",
       "    <tr>\n",
       "      <th>0</th>\n",
       "      <td>TMIN</td>\n",
       "      <td>2017-09-05</td>\n",
       "      <td>GHCND:USC00085359</td>\n",
       "      <td>77.0</td>\n",
       "      <td>MARCO ISLAND, FL US</td>\n",
       "      <td>25.9491</td>\n",
       "      <td>-81.7138</td>\n",
       "    </tr>\n",
       "    <tr>\n",
       "      <th>1</th>\n",
       "      <td>TMIN</td>\n",
       "      <td>2017-09-05</td>\n",
       "      <td>GHCND:USC00087760</td>\n",
       "      <td>76.0</td>\n",
       "      <td>ROYAL PALM RANGER STATION, FL US</td>\n",
       "      <td>25.3866</td>\n",
       "      <td>-80.5936</td>\n",
       "    </tr>\n",
       "    <tr>\n",
       "      <th>2</th>\n",
       "      <td>TMIN</td>\n",
       "      <td>2017-09-05</td>\n",
       "      <td>GHCND:USW00092826</td>\n",
       "      <td>77.0</td>\n",
       "      <td>EVERGLADES CITY 5 NE, FL US</td>\n",
       "      <td>25.8996</td>\n",
       "      <td>-81.3183</td>\n",
       "    </tr>\n",
       "    <tr>\n",
       "      <th>3</th>\n",
       "      <td>TMIN</td>\n",
       "      <td>2017-09-05</td>\n",
       "      <td>GHCND:USC00087020</td>\n",
       "      <td>75.0</td>\n",
       "      <td>PERRINE 4 W, FL US</td>\n",
       "      <td>25.5819</td>\n",
       "      <td>-80.4361</td>\n",
       "    </tr>\n",
       "    <tr>\n",
       "      <th>4</th>\n",
       "      <td>TMIN</td>\n",
       "      <td>2017-09-05</td>\n",
       "      <td>GHCND:USR0000FRAC</td>\n",
       "      <td>75.0</td>\n",
       "      <td>RACCOON POINT FLORIDA, FL US</td>\n",
       "      <td>25.9708</td>\n",
       "      <td>-80.9000</td>\n",
       "    </tr>\n",
       "  </tbody>\n",
       "</table>\n",
       "</div>"
      ],
      "text/plain": [
       "  DataType        Date         Station id  Value  \\\n",
       "0     TMIN  2017-09-05  GHCND:USC00085359   77.0   \n",
       "1     TMIN  2017-09-05  GHCND:USC00087760   76.0   \n",
       "2     TMIN  2017-09-05  GHCND:USW00092826   77.0   \n",
       "3     TMIN  2017-09-05  GHCND:USC00087020   75.0   \n",
       "4     TMIN  2017-09-05  GHCND:USR0000FRAC   75.0   \n",
       "\n",
       "                       Station name  Latitude  Longitude  \n",
       "0               MARCO ISLAND, FL US   25.9491   -81.7138  \n",
       "1  ROYAL PALM RANGER STATION, FL US   25.3866   -80.5936  \n",
       "2       EVERGLADES CITY 5 NE, FL US   25.8996   -81.3183  \n",
       "3                PERRINE 4 W, FL US   25.5819   -80.4361  \n",
       "4      RACCOON POINT FLORIDA, FL US   25.9708   -80.9000  "
      ]
     },
     "execution_count": 28,
     "metadata": {},
     "output_type": "execute_result"
    }
   ],
   "source": [
    "# Let's create minimum temperature dataframe\n",
    "df_MinTemp_unsorted = df_SouthFLWeather.loc[(df_SouthFLWeather[\"DataType\"]==\"TMIN\"),:]\n",
    "# Let's sort the dataframe by Date\n",
    "df_MinTemp = df_MinTemp_unsorted.sort_values(by=\"Date\",ascending=True)\n",
    "# Let's reset index in the new dataframe\n",
    "df_MinTemp.reset_index(drop = True, inplace=True)\n",
    "# Save the dataframe to the output file\n",
    "df_MinTemp.to_csv(\"Output_Data/Irma_MinTemp.csv\", index=False, encoding=\"utf-8\")\n",
    "# Display the dataframe\n",
    "print('\\033[96m'+'\\033[1m'+\"The shape of the minimum temperature dataframe is:{}\".format(df_MinTemp.shape)+'\\033[0m')\n",
    "df_MinTemp.head()"
   ]
  },
  {
   "cell_type": "markdown",
   "metadata": {},
   "source": [
    "## Wind in Southern Florida when hurricane Irma made landfall"
   ]
  },
  {
   "cell_type": "code",
   "execution_count": 29,
   "metadata": {},
   "outputs": [
    {
     "name": "stdout",
     "output_type": "stream",
     "text": [
      "\u001b[96m\u001b[1mThe shape of the high damaging wind dataframe is:(2, 7)\u001b[0m\n"
     ]
    },
    {
     "data": {
      "text/html": [
       "<div>\n",
       "<style scoped>\n",
       "    .dataframe tbody tr th:only-of-type {\n",
       "        vertical-align: middle;\n",
       "    }\n",
       "\n",
       "    .dataframe tbody tr th {\n",
       "        vertical-align: top;\n",
       "    }\n",
       "\n",
       "    .dataframe thead th {\n",
       "        text-align: right;\n",
       "    }\n",
       "</style>\n",
       "<table border=\"1\" class=\"dataframe\">\n",
       "  <thead>\n",
       "    <tr style=\"text-align: right;\">\n",
       "      <th></th>\n",
       "      <th>DataType</th>\n",
       "      <th>Date</th>\n",
       "      <th>Station id</th>\n",
       "      <th>Value</th>\n",
       "      <th>Station name</th>\n",
       "      <th>Latitude</th>\n",
       "      <th>Longitude</th>\n",
       "    </tr>\n",
       "  </thead>\n",
       "  <tbody>\n",
       "    <tr>\n",
       "      <th>0</th>\n",
       "      <td>WT11</td>\n",
       "      <td>2017-09-10</td>\n",
       "      <td>GHCND:USC00085359</td>\n",
       "      <td>1.0</td>\n",
       "      <td>MARCO ISLAND, FL US</td>\n",
       "      <td>25.9491</td>\n",
       "      <td>-81.7138</td>\n",
       "    </tr>\n",
       "    <tr>\n",
       "      <th>1</th>\n",
       "      <td>WT11</td>\n",
       "      <td>2017-09-11</td>\n",
       "      <td>GHCND:USC00085359</td>\n",
       "      <td>1.0</td>\n",
       "      <td>MARCO ISLAND, FL US</td>\n",
       "      <td>25.9491</td>\n",
       "      <td>-81.7138</td>\n",
       "    </tr>\n",
       "  </tbody>\n",
       "</table>\n",
       "</div>"
      ],
      "text/plain": [
       "  DataType        Date         Station id  Value         Station name  \\\n",
       "0     WT11  2017-09-10  GHCND:USC00085359    1.0  MARCO ISLAND, FL US   \n",
       "1     WT11  2017-09-11  GHCND:USC00085359    1.0  MARCO ISLAND, FL US   \n",
       "\n",
       "   Latitude  Longitude  \n",
       "0   25.9491   -81.7138  \n",
       "1   25.9491   -81.7138  "
      ]
     },
     "execution_count": 29,
     "metadata": {},
     "output_type": "execute_result"
    }
   ],
   "source": [
    "# Let's create high damaging windspeed dataframe\n",
    "df_WT11_unsorted = df_SouthFLWeather.loc[(df_SouthFLWeather[\"DataType\"]==\"WT11\"),:]\n",
    "# Let's sort the dataframe by Date\n",
    "df_WT11 = df_WT11_unsorted.sort_values(by=\"Date\",ascending=True)\n",
    "# Let's reset index in the new dataframe\n",
    "df_WT11.reset_index(drop = True, inplace=True)\n",
    "print('\\033[96m'+'\\033[1m'+\"The shape of the high damaging wind dataframe is:{}\".format(df_WT11.shape)+'\\033[0m')\n",
    "df_WT11.head()"
   ]
  },
  {
   "cell_type": "code",
   "execution_count": 30,
   "metadata": {},
   "outputs": [
    {
     "name": "stdout",
     "output_type": "stream",
     "text": [
      "\u001b[94m\u001b[1mThe shape of the hail occurence dataframe is:(6, 7)\u001b[0m\n"
     ]
    },
    {
     "data": {
      "text/html": [
       "<div>\n",
       "<style scoped>\n",
       "    .dataframe tbody tr th:only-of-type {\n",
       "        vertical-align: middle;\n",
       "    }\n",
       "\n",
       "    .dataframe tbody tr th {\n",
       "        vertical-align: top;\n",
       "    }\n",
       "\n",
       "    .dataframe thead th {\n",
       "        text-align: right;\n",
       "    }\n",
       "</style>\n",
       "<table border=\"1\" class=\"dataframe\">\n",
       "  <thead>\n",
       "    <tr style=\"text-align: right;\">\n",
       "      <th></th>\n",
       "      <th>DataType</th>\n",
       "      <th>Date</th>\n",
       "      <th>Station id</th>\n",
       "      <th>Value</th>\n",
       "      <th>Station name</th>\n",
       "      <th>Latitude</th>\n",
       "      <th>Longitude</th>\n",
       "    </tr>\n",
       "  </thead>\n",
       "  <tbody>\n",
       "    <tr>\n",
       "      <th>0</th>\n",
       "      <td>WT03</td>\n",
       "      <td>2017-09-05</td>\n",
       "      <td>GHCND:USC00085359</td>\n",
       "      <td>1.0</td>\n",
       "      <td>MARCO ISLAND, FL US</td>\n",
       "      <td>25.9491</td>\n",
       "      <td>-81.7138</td>\n",
       "    </tr>\n",
       "    <tr>\n",
       "      <th>1</th>\n",
       "      <td>WT03</td>\n",
       "      <td>2017-09-07</td>\n",
       "      <td>GHCND:USC00087020</td>\n",
       "      <td>1.0</td>\n",
       "      <td>PERRINE 4 W, FL US</td>\n",
       "      <td>25.5819</td>\n",
       "      <td>-80.4361</td>\n",
       "    </tr>\n",
       "    <tr>\n",
       "      <th>2</th>\n",
       "      <td>WT03</td>\n",
       "      <td>2017-09-08</td>\n",
       "      <td>GHCND:USC00085359</td>\n",
       "      <td>1.0</td>\n",
       "      <td>MARCO ISLAND, FL US</td>\n",
       "      <td>25.9491</td>\n",
       "      <td>-81.7138</td>\n",
       "    </tr>\n",
       "    <tr>\n",
       "      <th>3</th>\n",
       "      <td>WT03</td>\n",
       "      <td>2017-09-09</td>\n",
       "      <td>GHCND:USC00087020</td>\n",
       "      <td>1.0</td>\n",
       "      <td>PERRINE 4 W, FL US</td>\n",
       "      <td>25.5819</td>\n",
       "      <td>-80.4361</td>\n",
       "    </tr>\n",
       "    <tr>\n",
       "      <th>4</th>\n",
       "      <td>WT03</td>\n",
       "      <td>2017-09-10</td>\n",
       "      <td>GHCND:USC00085359</td>\n",
       "      <td>1.0</td>\n",
       "      <td>MARCO ISLAND, FL US</td>\n",
       "      <td>25.9491</td>\n",
       "      <td>-81.7138</td>\n",
       "    </tr>\n",
       "  </tbody>\n",
       "</table>\n",
       "</div>"
      ],
      "text/plain": [
       "  DataType        Date         Station id  Value         Station name  \\\n",
       "0     WT03  2017-09-05  GHCND:USC00085359    1.0  MARCO ISLAND, FL US   \n",
       "1     WT03  2017-09-07  GHCND:USC00087020    1.0   PERRINE 4 W, FL US   \n",
       "2     WT03  2017-09-08  GHCND:USC00085359    1.0  MARCO ISLAND, FL US   \n",
       "3     WT03  2017-09-09  GHCND:USC00087020    1.0   PERRINE 4 W, FL US   \n",
       "4     WT03  2017-09-10  GHCND:USC00085359    1.0  MARCO ISLAND, FL US   \n",
       "\n",
       "   Latitude  Longitude  \n",
       "0   25.9491   -81.7138  \n",
       "1   25.5819   -80.4361  \n",
       "2   25.9491   -81.7138  \n",
       "3   25.5819   -80.4361  \n",
       "4   25.9491   -81.7138  "
      ]
     },
     "execution_count": 30,
     "metadata": {},
     "output_type": "execute_result"
    }
   ],
   "source": [
    "# Let's create small hail occurence dataframe\n",
    "df_WT03_unsorted = df_SouthFLWeather.loc[(df_SouthFLWeather[\"DataType\"]==\"WT03\"),:]\n",
    "# Let's sort the dataframe by Date\n",
    "df_WT03 = df_WT03_unsorted.sort_values(by=\"Date\",ascending=True)\n",
    "# Let's reset index in the new dataframe\n",
    "df_WT03.reset_index(drop = True, inplace=True)\n",
    "print('\\033[94m'+'\\033[1m'+\"The shape of the hail occurence dataframe is:{}\".format(df_WT03.shape)+'\\033[0m')\n",
    "df_WT03.head()"
   ]
  },
  {
   "cell_type": "code",
   "execution_count": 21,
   "metadata": {},
   "outputs": [
    {
     "data": {
      "image/png": "[encoded data removed]",
      "text/plain": [
       "<Figure size 864x576 with 1 Axes>"
      ]
     },
     "metadata": {},
     "output_type": "display_data"
    }
   ],
   "source": [
    "import matplotlib.pyplot as plt\n",
    "import numpy as np\n",
    "import seaborn as sns\n",
    "# Set the style for seaborn plot\n",
    "sns.set_style(\"darkgrid\")\n",
    "# Create a font library\n",
    "titlefont = {\"fontname\":\"Times New Roman\"}\n",
    "labelfont = {\"fontname\":\"Arial\"}\n",
    "# Set font scale and reduce grid line width\n",
    "sns.set_context(\"poster\",font_scale=1.4,rc={\"grid.linewidth\":2})\n",
    "# Define the figure size\n",
    "fig = plt.figure(figsize=(12,8))\n",
    "# Define x_data & y_data\n",
    "x_data = df_prcp[\"Date\"]\n",
    "y_data = df_prcp[\"Value\"]\n",
    "# Make a color map\n",
    "t = np.arange(len(y_data))\n",
    "# Define x_axis for the plot\n",
    "x_axis = np.arange(12)\n",
    "# Define tick locations and place the x_ticks\n",
    "tick_locations = [value for value in x_axis]\n",
    "# Create the tick labels (unique days)\n",
    "x_labels = df_prcp[\"Date\"].unique().tolist()\n",
    "plt.xticks(tick_locations,x_labels,rotation=90,fontsize=14,color=\"black\",**labelfont)\n",
    "# Set the x limits of the current chart\n",
    "plt.xlim(0, len(x_axis)-1)\n",
    "# Set y ticks and y limits of the current chart\n",
    "plt.yticks(fontsize=14, color = \"black\", **labelfont)\n",
    "# Creating padding around the y limits\n",
    "y_pad = abs(0.2*y_data.mean()) # 20% of mean y value\n",
    "# Sets the y limits of the current chart\n",
    "plt.ylim(y_data.min()-y_pad,y_data.max()+y_pad )\n",
    "# Plotting the data\n",
    "plt.plot(x_data,y_data,color=\"black\",linewidth = 1)\n",
    "plt.fill_between(x_data,y_data,color = \"blue\", alpha = 0.4)\n",
    "# Creating a vertical line denoting the landfall date\n",
    "plt.vlines(\"2017-09-10\",(y_data.min()-y_pad),(y_data.max()+y_pad),color=\"red\",alpha=0.7,linewidth=4,linestyle=\"dashed\")\n",
    "# Display x & y-axis labels and a title for the lineplot\n",
    "plt.title(\"Precipitation during Irma landfall (South Florida)\",fontsize=28,color=\"black\",**titlefont)\n",
    "plt.xlabel(\"Date\",fontsize = 18,color=\"black\",**labelfont)\n",
    "plt.ylabel(\"Precipitation (inches)\",fontsize = 18,color=\"black\",**labelfont)\n",
    "plt.tight_layout()\n",
    "# Save the figure\n",
    "plt.savefig(\"Output_Data/Irma_Precipitation.png\")\n",
    "# Display the plot\n",
    "plt.show()"
   ]
  },
  {
   "cell_type": "markdown",
   "metadata": {},
   "source": [
    "## Let's create merged dataframe with minimum and maximum temperatures"
   ]
  },
  {
   "cell_type": "code",
   "execution_count": 22,
   "metadata": {},
   "outputs": [
    {
     "data": {
      "text/html": [
       "<div>\n",
       "<style scoped>\n",
       "    .dataframe tbody tr th:only-of-type {\n",
       "        vertical-align: middle;\n",
       "    }\n",
       "\n",
       "    .dataframe tbody tr th {\n",
       "        vertical-align: top;\n",
       "    }\n",
       "\n",
       "    .dataframe thead th {\n",
       "        text-align: right;\n",
       "    }\n",
       "</style>\n",
       "<table border=\"1\" class=\"dataframe\">\n",
       "  <thead>\n",
       "    <tr style=\"text-align: right;\">\n",
       "      <th></th>\n",
       "      <th>Date</th>\n",
       "      <th>MaxTemp</th>\n",
       "      <th>MinTemp</th>\n",
       "    </tr>\n",
       "  </thead>\n",
       "  <tbody>\n",
       "    <tr>\n",
       "      <th>0</th>\n",
       "      <td>2017-09-05</td>\n",
       "      <td>93.0</td>\n",
       "      <td>77.0</td>\n",
       "    </tr>\n",
       "    <tr>\n",
       "      <th>1</th>\n",
       "      <td>2017-09-05</td>\n",
       "      <td>93.0</td>\n",
       "      <td>76.0</td>\n",
       "    </tr>\n",
       "    <tr>\n",
       "      <th>2</th>\n",
       "      <td>2017-09-05</td>\n",
       "      <td>93.0</td>\n",
       "      <td>77.0</td>\n",
       "    </tr>\n",
       "    <tr>\n",
       "      <th>3</th>\n",
       "      <td>2017-09-05</td>\n",
       "      <td>93.0</td>\n",
       "      <td>75.0</td>\n",
       "    </tr>\n",
       "    <tr>\n",
       "      <th>4</th>\n",
       "      <td>2017-09-05</td>\n",
       "      <td>93.0</td>\n",
       "      <td>75.0</td>\n",
       "    </tr>\n",
       "  </tbody>\n",
       "</table>\n",
       "</div>"
      ],
      "text/plain": [
       "         Date  MaxTemp  MinTemp\n",
       "0  2017-09-05     93.0     77.0\n",
       "1  2017-09-05     93.0     76.0\n",
       "2  2017-09-05     93.0     77.0\n",
       "3  2017-09-05     93.0     75.0\n",
       "4  2017-09-05     93.0     75.0"
      ]
     },
     "execution_count": 22,
     "metadata": {},
     "output_type": "execute_result"
    }
   ],
   "source": [
    "# A copy of the minimum temperature dataframe with relevant colummns\n",
    "df_mintemp = df_MinTemp[[\"Date\",\"Value\"]]\n",
    "# A copy of the maximum temperature dataframe with relevant colummns\n",
    "df_maxtemp = df_MaxTemp[[\"Date\",\"Value\"]]\n",
    "# Combine the dataframes into a single dataframe\n",
    "df_combined = pd.merge(df_maxtemp, df_mintemp, how=\"outer\", on=\"Date\")\n",
    "# Rename the columns\n",
    "df_MinMax = df_combined.rename(columns={\"Value_x\":\"MaxTemp\",\"Value_y\":\"MinTemp\"})\n",
    "df_MinMax.head() # Display the dataframe"
   ]
  },
  {
   "cell_type": "code",
   "execution_count": 23,
   "metadata": {},
   "outputs": [
    {
     "data": {
      "image/png": "[encoded data removed]",
      "text/plain": [
       "<Figure size 864x576 with 1 Axes>"
      ]
     },
     "metadata": {},
     "output_type": "display_data"
    }
   ],
   "source": [
    "import matplotlib.pyplot as plt\n",
    "import numpy as np\n",
    "import seaborn as sns\n",
    "# Set the style for seaborn plot\n",
    "sns.set_style(\"darkgrid\")\n",
    "# Create a font library\n",
    "titlefont = {\"fontname\":\"Times New Roman\"}\n",
    "labelfont = {\"fontname\":\"Arial\"}\n",
    "# Set font scale and reduce grid line width\n",
    "sns.set_context(\"poster\",font_scale=1.4,rc={\"grid.linewidth\":2})\n",
    "# Define the figure size\n",
    "fig = plt.figure(figsize=(12,8))\n",
    "# Define x_data & y_data\n",
    "x_data = df_MinMax[\"Date\"]\n",
    "y_max = df_MinMax[\"MaxTemp\"]\n",
    "y_min = df_MinMax[\"MinTemp\"]\n",
    "# Make a color map\n",
    "t = np.arange(len(y_data))\n",
    "# Define x_axis for the plot\n",
    "x_axis = np.arange(12)\n",
    "# Define tick locations and place the x_ticks\n",
    "tick_locations = [value for value in x_axis]\n",
    "# Create the tick labels (unique days)\n",
    "x_labels = df_prcp[\"Date\"].unique().tolist()\n",
    "plt.xticks(tick_locations,x_labels,rotation=90,fontsize=14,color=\"black\",**labelfont)\n",
    "# Set the x limits of the current chart\n",
    "plt.xlim(0, len(x_axis)-1)\n",
    "# Creating padding around the x and y limits\n",
    "y_pad = abs(0.025*y_min.mean()) # 2.5% of mean y value\n",
    "# Sets the y limits of the current chart\n",
    "plt.ylim(y_min.min()-y_pad,y_max.max()+y_pad )\n",
    "# Set y ticks and y limits of the current chart\n",
    "plt.yticks(fontsize=14, color = \"black\", **labelfont)\n",
    "# Plot Maximum Temperature data\n",
    "plt.plot(x_data,y_max,color=\"red\",linewidth = 2)\n",
    "# Plot Minimum Temperature data\n",
    "plt.plot(x_data,y_min,color=\"orange\",linewidth = 2)\n",
    "# Filling the area below the line plots\n",
    "plt.fill_between(x_data,y_max,color = \"red\", alpha = 0.5)\n",
    "plt.fill_between(x_data,y_min,color = \"yellow\", alpha = 0.5)\n",
    "# Creating a vertical line denoting the landfall date\n",
    "plt.vlines(\"2017-09-10\",(y_min.min()-y_pad),(y_max.max()+y_pad),color=\"blue\",alpha=0.7,linestyle=\"dashed\")\n",
    "# Display x & y-axis labels and a title for the lineplot\n",
    "plt.title(\"Min. & Max Temperatures during Irma landfall (South Florida)\",fontsize=26,color=\"black\",**titlefont)\n",
    "plt.xlabel(\"Date\",fontsize = 18,color=\"black\",**labelfont)\n",
    "plt.ylabel(\"Min and Max Temperatures (F)\",fontsize = 18,color=\"black\",**labelfont)\n",
    "plt.tight_layout()\n",
    "# Save the figure\n",
    "plt.savefig(\"Output_Data/Irma_MinMaxTemp.png\")\n",
    "# Display the plot\n",
    "plt.show()"
   ]
  },
  {
   "cell_type": "code",
   "execution_count": null,
   "metadata": {},
   "outputs": [],
   "source": []
  }
 ],
 "metadata": {
  "anaconda-cloud": {},
  "kernel_info": {
   "name": "python3"
  },
  "kernelspec": {
   "display_name": "Python 3",
   "language": "python",
   "name": "python3"
  },
  "language_info": {
   "codemirror_mode": {
    "name": "ipython",
    "version": 3
   },
   "file_extension": ".py",
   "mimetype": "text/x-python",
   "name": "python",
   "nbconvert_exporter": "python",
   "pygments_lexer": "ipython3",
   "version": "3.7.6"
  },
  "latex_envs": {
   "LaTeX_envs_menu_present": true,
   "autoclose": false,
   "autocomplete": true,
   "bibliofile": "biblio.bib",
   "cite_by": "apalike",
   "current_citInitial": 1,
   "eqLabelWithNumbers": true,
   "eqNumInitial": 1,
   "hotkeys": {
    "equation": "Ctrl-E",
    "itemize": "Ctrl-I"
   },
   "labels_anchors": false,
   "latex_user_defs": false,
   "report_style_numbering": false,
   "user_envs_cfg": false
  },
  "nteract": {
   "version": "0.12.3"
  }
 },
 "nbformat": 4,
 "nbformat_minor": 2
}
